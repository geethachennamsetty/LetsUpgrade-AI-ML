{
 "cells": [
  {
   "cell_type": "markdown",
   "metadata": {},
   "source": [
    "# 1. Create a 3x3x3 array with random values "
   ]
  },
  {
   "cell_type": "code",
   "execution_count": 58,
   "metadata": {},
   "outputs": [
    {
     "name": "stdout",
     "output_type": "stream",
     "text": [
      "[[[0.42117071 0.83375531 0.45887068]\n",
      "  [0.34740229 0.09170098 0.81521583]\n",
      "  [0.13411587 0.40278022 0.54084957]]\n",
      "\n",
      " [[0.36650852 0.28154267 0.18455926]\n",
      "  [0.68366255 0.44853879 0.67627271]\n",
      "  [0.3931941  0.12397567 0.3774786 ]]\n",
      "\n",
      " [[0.35602708 0.04449953 0.11561601]\n",
      "  [0.66499262 0.60351483 0.80981708]\n",
      "  [0.05666291 0.88967196 0.926918  ]]]\n"
     ]
    },
    {
     "data": {
      "text/plain": [
       "(3, 3, 3)"
      ]
     },
     "execution_count": 58,
     "metadata": {},
     "output_type": "execute_result"
    }
   ],
   "source": [
    "import numpy as np\n",
    "a=np.random.rand(3,3,3)\n",
    "print(a)\n",
    "a.shape"
   ]
  },
  {
   "cell_type": "markdown",
   "metadata": {},
   "source": [
    "# 2.Create a 5x5 matrix with values 1,2,3,4 just below the diagonal"
   ]
  },
  {
   "cell_type": "code",
   "execution_count": 25,
   "metadata": {},
   "outputs": [
    {
     "name": "stdout",
     "output_type": "stream",
     "text": [
      "[[0 0 0 0 0]\n",
      " [1 0 0 0 0]\n",
      " [0 2 0 0 0]\n",
      " [0 0 3 0 0]\n",
      " [0 0 0 4 0]]\n"
     ]
    }
   ],
   "source": [
    "import numpy as np\n",
    "b=np.diag(1+np.arange(4),k=-1)\n",
    "print(b)"
   ]
  },
  {
   "cell_type": "markdown",
   "metadata": {},
   "source": [
    "# 3.Create a 8x8 matrix and fill it with a checkerboard pattern"
   ]
  },
  {
   "cell_type": "code",
   "execution_count": 30,
   "metadata": {},
   "outputs": [
    {
     "name": "stdout",
     "output_type": "stream",
     "text": [
      "[[0 1 0 1 0 1 0 1]\n",
      " [1 0 1 0 1 0 1 0]\n",
      " [0 1 0 1 0 1 0 1]\n",
      " [1 0 1 0 1 0 1 0]\n",
      " [0 1 0 1 0 1 0 1]\n",
      " [1 0 1 0 1 0 1 0]\n",
      " [0 1 0 1 0 1 0 1]\n",
      " [1 0 1 0 1 0 1 0]]\n"
     ]
    }
   ],
   "source": [
    "a=np.zeros((8,8),dtype=int)\n",
    "a[1::2,::2] = 1\n",
    "a[::2,1::2] = 1\n",
    "print(a)"
   ]
  },
  {
   "cell_type": "markdown",
   "metadata": {},
   "source": [
    "# 4. Normalize a 5x5 random matrix"
   ]
  },
  {
   "cell_type": "code",
   "execution_count": 35,
   "metadata": {},
   "outputs": [
    {
     "name": "stdout",
     "output_type": "stream",
     "text": [
      "[[0.52361384 0.53760844 0.84586294 0.36983708 0.78945394]\n",
      " [0.09818562 0.70638906 0.5115635  0.90003724 0.89188175]\n",
      " [0.0221889  0.11753173 0.52717441 0.23823089 1.        ]\n",
      " [0.18738594 0.82422082 0.87493249 0.         0.6741978 ]\n",
      " [0.71722825 0.75888441 0.02355016 0.84860954 0.89988398]]\n"
     ]
    }
   ],
   "source": [
    "x=np.random.rand(5,5)\n",
    "x_max,x_min = x.max(),x.min()\n",
    "n = (x-x_min)/(x_max-x_min)\n",
    "print(n)"
   ]
  },
  {
   "cell_type": "markdown",
   "metadata": {},
   "source": [
    "# 5.  How to find common values between two arrays?"
   ]
  },
  {
   "cell_type": "code",
   "execution_count": 38,
   "metadata": {},
   "outputs": [
    {
     "name": "stdout",
     "output_type": "stream",
     "text": [
      "the common values between two arrays are: [60 70 80]\n"
     ]
    }
   ],
   "source": [
    "a = np.array([60,70,80,90,100])\n",
    "b = np.array([40,50,60,70,75,80])\n",
    "c=np.intersect1d(a,b)\n",
    "print(\"the common values between two arrays are:\",c)"
   ]
  },
  {
   "cell_type": "markdown",
   "metadata": {},
   "source": [
    "# 6.How to get the dates of yesterday, today and tomorrow?"
   ]
  },
  {
   "cell_type": "code",
   "execution_count": 44,
   "metadata": {},
   "outputs": [
    {
     "name": "stdout",
     "output_type": "stream",
     "text": [
      "yesterday date : 2020-07-27\n",
      "today date :  2020-07-28\n",
      "tomorrow date:  2020-07-29\n"
     ]
    }
   ],
   "source": [
    "yesterday = np.datetime64('today','D')-np.timedelta64(1,'D')\n",
    "print('yesterday date :',yesterday)\n",
    "today = np.datetime64('today','D')\n",
    "print('today date : ',today)\n",
    "tomorrow = np.datetime64('today','D')+np.timedelta64(1,'D')\n",
    "print('tomorrow date: ',tomorrow)"
   ]
  },
  {
   "cell_type": "markdown",
   "metadata": {},
   "source": [
    "# 7. Consider two random array A and B, check if they are equal"
   ]
  },
  {
   "cell_type": "code",
   "execution_count": 48,
   "metadata": {},
   "outputs": [
    {
     "name": "stdout",
     "output_type": "stream",
     "text": [
      "1st array:  [ 4 14  0]\n",
      "2nd array:  [ 3 14  1]\n",
      "False\n"
     ]
    }
   ],
   "source": [
    "a=np.random.randint([10,20,5])\n",
    "print(\"1st array: \", a)\n",
    "b=np.random.randint([10,20,5])\n",
    "print(\"2nd array: \", b)\n",
    "equal = np.allclose(a,b)\n",
    "print(equal)"
   ]
  },
  {
   "cell_type": "markdown",
   "metadata": {},
   "source": [
    "# 8.Create random vector of size 10 and replace the maximum value by 0 "
   ]
  },
  {
   "cell_type": "code",
   "execution_count": 56,
   "metadata": {},
   "outputs": [
    {
     "name": "stdout",
     "output_type": "stream",
     "text": [
      "[0.152308   0.48038945 0.60427054 0.27218687 0.72989994 0.37575073\n",
      " 0.99626654 0.65473945 0.62374267 0.20059188]\n",
      "maximum value:  0.9962665405085329\n",
      "array after replacing maximum value by 10 \n",
      " [0.152308   0.48038945 0.60427054 0.27218687 0.72989994 0.37575073\n",
      " 0.         0.65473945 0.62374267 0.20059188]\n"
     ]
    }
   ],
   "source": [
    "a = np.random.random(10)\n",
    "print(a)\n",
    "print(\"maximum value: \",a.max())\n",
    "a[a.argmax()]=0\n",
    "print(\"array after replacing maximum value by 10 \\n\",a)\n"
   ]
  },
  {
   "cell_type": "markdown",
   "metadata": {},
   "source": [
    "# 9. How to print all the values of an array?"
   ]
  },
  {
   "cell_type": "code",
   "execution_count": 61,
   "metadata": {},
   "outputs": [
    {
     "name": "stdout",
     "output_type": "stream",
     "text": [
      "[[0. 0. 0. 0. 0. 0.]\n",
      " [0. 0. 0. 0. 0. 0.]\n",
      " [0. 0. 0. 0. 0. 0.]\n",
      " [0. 0. 0. 0. 0. 0.]\n",
      " [0. 0. 0. 0. 0. 0.]\n",
      " [0. 0. 0. 0. 0. 0.]]\n"
     ]
    }
   ],
   "source": [
    "x = np.zeros((6, 6))\n",
    "print(x)"
   ]
  },
  {
   "cell_type": "markdown",
   "metadata": {},
   "source": [
    "# 10.Subtract the mean of each row of a matrix"
   ]
  },
  {
   "cell_type": "code",
   "execution_count": 64,
   "metadata": {},
   "outputs": [
    {
     "name": "stdout",
     "output_type": "stream",
     "text": [
      "actual array: \n",
      " [[0.48157833 0.18005752 0.33599143 0.12363847 0.35897646]\n",
      " [0.93639863 0.89096644 0.53184799 0.70649709 0.58699468]\n",
      " [0.75501871 0.16312253 0.32816806 0.39239706 0.60838415]\n",
      " [0.43340035 0.00368624 0.56437793 0.18281659 0.15665161]\n",
      " [0.59185446 0.8018936  0.13485233 0.97478379 0.50535984]]\n",
      "0.46918857142537973\n",
      "\n",
      "after Subtracting the mean of each row of a matrix\n",
      " [[ 0.18552988 -0.55048345 -0.11342667 -0.14454808 -0.24277234]\n",
      " [ 0.64035018  0.16042548  0.08242989  0.43831054 -0.01475413]\n",
      " [ 0.45897026 -0.56741844 -0.12125004  0.12421051  0.00663534]\n",
      " [ 0.13735191 -0.72685472  0.11495983 -0.08536995 -0.4450972 ]\n",
      " [ 0.29580602  0.07135264 -0.31456577  0.70659725 -0.09638896]]\n"
     ]
    }
   ],
   "source": [
    "x = np.random.rand(5,5)\n",
    "print(\"actual array: \\n\",x)\n",
    "y = x-x.mean(axis = 1)\n",
    "print(x.mean())\n",
    "print(\"\\nafter Subtracting the mean of each row of a matrix\\n\",y)"
   ]
  },
  {
   "cell_type": "markdown",
   "metadata": {},
   "source": [
    "# 11.Consider a given vector, how to add 1 to each element indexed by a second vector (be careful with repeated indices)? "
   ]
  },
  {
   "cell_type": "code",
   "execution_count": 68,
   "metadata": {},
   "outputs": [
    {
     "name": "stdout",
     "output_type": "stream",
     "text": [
      "[4 2 1 7 8 3 5 8 2 7 7 1 7 5 1 2 0 9 0 9]\n",
      "[3. 4. 4. 2. 2. 3. 1. 5. 3. 3.]\n"
     ]
    }
   ],
   "source": [
    "Z = np.ones(10)\n",
    "I = np.random.randint(0,len(Z),20)\n",
    "print(I)\n",
    "np.add.at(Z, I, 1)\n",
    "print(Z)"
   ]
  },
  {
   "cell_type": "markdown",
   "metadata": {},
   "source": [
    "# 12.How to get the diagonal of a dot product?"
   ]
  },
  {
   "cell_type": "code",
   "execution_count": 70,
   "metadata": {},
   "outputs": [
    {
     "name": "stdout",
     "output_type": "stream",
     "text": [
      "[189.48890951 134.28398104  39.13766926 177.54913578  97.52300811]\n"
     ]
    }
   ],
   "source": [
    "a = np.random.uniform(0,10,(5,5))\n",
    "b = np.random.uniform(0,10,(5,5))\n",
    "print(np.diag(np.dot(a,b)))"
   ]
  },
  {
   "cell_type": "markdown",
   "metadata": {},
   "source": [
    "# 13.How to find the most frequent value in an array?"
   ]
  },
  {
   "cell_type": "code",
   "execution_count": 72,
   "metadata": {},
   "outputs": [
    {
     "name": "stdout",
     "output_type": "stream",
     "text": [
      "[9 5 0 2 1 4 6 7 1 7 8 3 0 6 9 1 8 6 8 8 0 7 9 9 2 0 0 5 7 5 4 6 3 6 6 6 4\n",
      " 5 2 1 4 8 5 0 2 1 6 0 7 6]\n",
      "most frequent value in an array:  6\n"
     ]
    }
   ],
   "source": [
    "a = np.random.randint(0,10,50)\n",
    "print(a)\n",
    "print(\"most frequent value in an array: \",np.bincount(a).argmax())"
   ]
  },
  {
   "cell_type": "markdown",
   "metadata": {},
   "source": [
    "# 14.How to get the n largest values of an array"
   ]
  },
  {
   "cell_type": "code",
   "execution_count": 80,
   "metadata": {},
   "outputs": [
    {
     "name": "stdout",
     "output_type": "stream",
     "text": [
      "Original array:\n",
      "[ 0  1  2  3  4  5  6  7  8  9 10 11 12 13 14 15 16 17 18 19 20 21 22 23\n",
      " 24 25 26 27 28 29 30 31 32 33 34 35 36 37 38 39 40 41 42 43 44 45 46 47\n",
      " 48 49]\n",
      "[45 46 47 48 49]\n"
     ]
    }
   ],
   "source": [
    "x = np.arange(50)\n",
    "print(\"Original array:\")\n",
    "print(x)\n",
    "np.random.shuffle(x)\n",
    "n = 5\n",
    "print (x[np.argsort(x)[-n:]])\n"
   ]
  },
  {
   "cell_type": "markdown",
   "metadata": {},
   "source": [
    "# 15.How to create a record array from a regular array?"
   ]
  },
  {
   "cell_type": "code",
   "execution_count": 88,
   "metadata": {},
   "outputs": [
    {
     "name": "stdout",
     "output_type": "stream",
     "text": [
      "[(b'record', 25., 30) (b'array', 40., 20)]\n"
     ]
    }
   ],
   "source": [
    "a = np.array([(\"record\", 25, 30),\n",
    "\n",
    "(\"array\", 40, 20)])\n",
    "\n",
    "b = np.core.records.fromarrays(a.T,\n",
    "\n",
    "names='col1, col2, col3',\n",
    "\n",
    "formats = 'S8, f8, i8')\n",
    "\n",
    "print(b)"
   ]
  }
 ],
 "metadata": {
  "kernelspec": {
   "display_name": "Python 3",
   "language": "python",
   "name": "python3"
  },
  "language_info": {
   "codemirror_mode": {
    "name": "ipython",
    "version": 3
   },
   "file_extension": ".py",
   "mimetype": "text/x-python",
   "name": "python",
   "nbconvert_exporter": "python",
   "pygments_lexer": "ipython3",
   "version": "3.8.3"
  }
 },
 "nbformat": 4,
 "nbformat_minor": 2
}
