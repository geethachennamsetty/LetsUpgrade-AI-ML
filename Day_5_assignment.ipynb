{
 "cells": [
  {
   "cell_type": "markdown",
   "metadata": {},
   "source": [
    "# Question 1 :\n",
    "# Write a Python program to find the first 20 non-even prime natural numbers.\n"
   ]
  },
  {
   "cell_type": "code",
   "execution_count": 43,
   "metadata": {},
   "outputs": [
    {
     "name": "stdout",
     "output_type": "stream",
     "text": [
      "3\n",
      "5\n",
      "7\n",
      "11\n",
      "13\n",
      "17\n",
      "19\n"
     ]
    }
   ],
   "source": [
    "for i in range(1,20):\n",
    "    c=0\n",
    "    for j in range(2,i//2):\n",
    "        if(i%j==0):\n",
    "            c=c+1\n",
    "            break\n",
    "    if(c==0 and i!=1 and i%2!=0):\n",
    "        print(i)\n",
    "\n",
    "    \n",
    "    \n",
    "    "
   ]
  },
  {
   "cell_type": "markdown",
   "metadata": {},
   "source": [
    "# Question 2 :\n",
    "# Write a Python program to implement 15 functions of string.\n"
   ]
  },
  {
   "cell_type": "code",
   "execution_count": 48,
   "metadata": {},
   "outputs": [
    {
     "name": "stdout",
     "output_type": "stream",
     "text": [
      "enter stringgeetha\n",
      "6 geetha GEETHA Geetha Geetha geetha geetha GEETHA True True False False False False   geetha  \n"
     ]
    }
   ],
   "source": [
    "st=input(\"enter string\")\n",
    "print(len(st),st.lower(),st.upper(),st.title(),st.capitalize(),st.rstrip(),st.lstrip(),st.swapcase(),st.isalnum(),st.isalpha(),st.isspace(),st.isdigit(),st.isspace(),st.istitle(),st.center(10))"
   ]
  },
  {
   "cell_type": "markdown",
   "metadata": {},
   "source": [
    "# Question 3:\n",
    "# Write a Python program to check if the given string is a Palindrome or Anagram or None of them. Display the message accordingly to the user.\n"
   ]
  },
  {
   "cell_type": "code",
   "execution_count": 52,
   "metadata": {},
   "outputs": [
    {
     "name": "stdout",
     "output_type": "stream",
     "text": [
      "enter 1st stringmom\n",
      "enter 2nd stringmom\n",
      "palindrome\n"
     ]
    }
   ],
   "source": [
    "s=input(\"enter 1st string\")\n",
    "s1=input(\"enter 2nd string\")\n",
    "if(s==s1):\n",
    "    print(\"palindrome\")\n",
    "elif(sorted(s)==sorted(s1)):\n",
    "    print(\"anagram\")\n",
    "else:\n",
    "    print(\"none of them\")\n",
    "    "
   ]
  },
  {
   "cell_type": "markdown",
   "metadata": {},
   "source": [
    "# Question 4:\n",
    "# Write a Python's user defined function that removes all the additional characters from the stringand converts it finally to lower case using built-in lower(). eg: If the string is \"Dr. Darshan Ingle @AI-ML Trainer\", then the output be \"drdarshaningleaimltrainer\"."
   ]
  },
  {
   "cell_type": "code",
   "execution_count": 64,
   "metadata": {},
   "outputs": [
    {
     "name": "stdout",
     "output_type": "stream",
     "text": [
      "drdarshaningleaimltrainer\n"
     ]
    }
   ],
   "source": [
    "a=\"Dr. Darshan Ingle @AI-ML Trainer\"\n",
    "b=''.join(e for e in a if e.isalnum())\n",
    "print(b.lower())\n"
   ]
  },
  {
   "cell_type": "code",
   "execution_count": null,
   "metadata": {},
   "outputs": [],
   "source": []
  }
 ],
 "metadata": {
  "kernelspec": {
   "display_name": "Python 3",
   "language": "python",
   "name": "python3"
  },
  "language_info": {
   "codemirror_mode": {
    "name": "ipython",
    "version": 3
   },
   "file_extension": ".py",
   "mimetype": "text/x-python",
   "name": "python",
   "nbconvert_exporter": "python",
   "pygments_lexer": "ipython3",
   "version": "3.7.4"
  }
 },
 "nbformat": 4,
 "nbformat_minor": 4
}
