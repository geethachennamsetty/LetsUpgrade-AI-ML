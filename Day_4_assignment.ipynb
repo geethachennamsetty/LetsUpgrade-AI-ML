{
 "cells": [
  {
   "cell_type": "markdown",
   "metadata": {},
   "source": [
    "# Question 1 :\n",
    "# Research on whether addition, subtraction, multiplication, division, floor division and modulo operations be performed on complex numbers. Based on your study, implement a Python program to demonstrate these operations.\n"
   ]
  },
  {
   "cell_type": "code",
   "execution_count": null,
   "metadata": {},
   "outputs": [],
   "source": [
    "a=2+3j\n",
    "b=3+2j\n",
    "print((a+b),(a-b),(a*b))\n",
    "#Division, floor division, modulo operations cannot be performed on complex numbers"
   ]
  },
  {
   "cell_type": "markdown",
   "metadata": {},
   "source": [
    "# Question 2 :\n",
    "# Research on range() functions and its parameters. Create a markdown cell and write in your own words (no copy-paste from google please) what you understand about it. Implement a smallprogram of your choice on the same.\n"
   ]
  },
  {
   "cell_type": "markdown",
   "metadata": {},
   "source": [
    "# solution:\n",
    "\n",
    "range() is a function which iterates from zero till the n'th integer specified, with 1 step by default.\n",
    "range() function accepts only integer values.\n",
    "Parameters in range are start,end & step\n",
    "start is the initial point,from which position we want to start our iteration.\n",
    "end is the last position, where we want to end our iteration.\n",
    "step is the desired integer for skipping the iterations between start and end positions.\n",
    "start and step are optional, while end or stop position required by the range() function.\n"
   ]
  },
  {
   "cell_type": "code",
   "execution_count": null,
   "metadata": {},
   "outputs": [],
   "source": [
    "a = 10\n",
    "print(\"Values iterated in a are denoted in i \\n\")\n",
    "for i in range(a):\n",
    "    print(i)\n",
    "print('\\n')\n",
    "a = range(10)\n",
    "print(\"Function is called directly \\n\")\n",
    "for i in a:\n",
    "    print(i)\n"
   ]
  },
  {
   "cell_type": "markdown",
   "metadata": {},
   "source": [
    "# Question 3:\n",
    "# Consider two numbers. Perform their subtraction and if the result of subtraction is greater than 25, print their multiplication result else print their division result.\n"
   ]
  },
  {
   "cell_type": "code",
   "execution_count": null,
   "metadata": {},
   "outputs": [],
   "source": [
    "a = int(input(\"value of a \"))\n",
    "b = int(input(\"value of b \"))\n",
    "print(\"subtracted value is \",a-b)\n",
    "if (a-b)>25:\n",
    "     print(\"Multiplication of a,b is \",a*b)\n",
    "else:\n",
    "     print(\"Division of a,b is \",a/b)\n"
   ]
  },
  {
   "cell_type": "markdown",
   "metadata": {},
   "source": [
    "# Question 4:\n",
    "# Consider a list of 10 elements of integer values. If the number in the list is divisible by 2, print the result as \"square of that number minus 2\"."
   ]
  },
  {
   "cell_type": "code",
   "execution_count": null,
   "metadata": {},
   "outputs": [],
   "source": [
    "a = [1,2,3,4,5,6,7,8,9,10]\n",
    "for i in a:\n",
    "    if i%2==0:\n",
    "        print(i,\" is divisible by 2 and result is \",(i**2)-2)\n",
    "    else :\n",
    "        print(i,\" is not divisible by 2 \")"
   ]
  },
  {
   "cell_type": "markdown",
   "metadata": {},
   "source": [
    "# Question 5:\n",
    "# Consider a list of 10 elements. Print all the elements in the list which are greater than 7 when that number is divided 2."
   ]
  },
  {
   "cell_type": "code",
   "execution_count": null,
   "metadata": {},
   "outputs": [],
   "source": [
    "a = [3,354,23566,42,7,4352,2345,123,6,345]\n",
    "l=[]\n",
    "for i in a:\n",
    "    if i>7:\n",
    "        l.append(i)\n",
    "for x in a:\n",
    "    if x%2==0:\n",
    "        print('\\n')\n",
    "        print(x,\"is divisible by 2, \\n\\nelements in list which are greater than 7 are \\n\",l)\n",
    "        \n",
    "    else:\n",
    "        print(\"\\n\")\n",
    "        print(x,\"is NOT divisible by 2 \\n\")\n",
    "        "
   ]
  },
  {
   "cell_type": "code",
   "execution_count": null,
   "metadata": {},
   "outputs": [],
   "source": []
  }
 ],
 "metadata": {
  "kernelspec": {
   "display_name": "Python 3",
   "language": "python",
   "name": "python3"
  },
  "language_info": {
   "codemirror_mode": {
    "name": "ipython",
    "version": 3
   },
   "file_extension": ".py",
   "mimetype": "text/x-python",
   "name": "python",
   "nbconvert_exporter": "python",
   "pygments_lexer": "ipython3",
   "version": "3.7.4"
  }
 },
 "nbformat": 4,
 "nbformat_minor": 4
}
