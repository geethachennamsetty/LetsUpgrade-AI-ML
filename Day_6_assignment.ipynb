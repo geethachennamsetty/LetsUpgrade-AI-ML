{
 "cells": [
  {
   "cell_type": "markdown",
   "metadata": {},
   "source": [
    "# Question 1:\n",
    "# Assuming that we have some email addresses in the\"username@companyname.com\" format, please write programto print the company name of a given email address. Both user names and company names are composed of letters only."
   ]
  },
  {
   "cell_type": "code",
   "execution_count": 1,
   "metadata": {},
   "outputs": [
    {
     "name": "stdout",
     "output_type": "stream",
     "text": [
      "geethaa@google.com\n",
      "google\n"
     ]
    }
   ],
   "source": [
    "a=input()\n",
    "i=a.index('@')\n",
    "print(a[i+1:len(a)-4])"
   ]
  },
  {
   "cell_type": "markdown",
   "metadata": {},
   "source": [
    "# Question 2:\n",
    "# Write a program that accepts a comma-separated sequence of words as input and prints the words in a comma separated sequence after sorting them alphabetically.\n"
   ]
  },
  {
   "cell_type": "code",
   "execution_count": 6,
   "metadata": {},
   "outputs": [
    {
     "name": "stdout",
     "output_type": "stream",
     "text": [
      "enter comma separted valuesdog,cat\n",
      "the sorted values are : ['cat', 'dog']\n"
     ]
    }
   ],
   "source": [
    "s=input(\"enter comma separted values\").split(',')\n",
    "print(\"the sorted values are :\",sorted(s))"
   ]
  },
  {
   "cell_type": "markdown",
   "metadata": {},
   "source": [
    "# Question 3:\n",
    "# Create your own Jupyter Notebook for Sets"
   ]
  },
  {
   "cell_type": "code",
   "execution_count": 23,
   "metadata": {},
   "outputs": [
    {
     "name": "stdout",
     "output_type": "stream",
     "text": [
      "{'Learning', 'Applied', 'Machine'}\n",
      "True\n",
      "{'is', 'Learning', 'Applied', 'Machine'}\n",
      "{'t', 'e', 'h', 'r', 'Applied', 'Learning', 'is', 'u', 'Machine', 'f'}\n"
     ]
    }
   ],
   "source": [
    "my_set = {'Applied','Machine','Learning'}\n",
    "print(my_set)\n",
    "\n",
    "#to check if something is included in set\n",
    "\n",
    "print(\"Applied\" in my_set)\n",
    "\n",
    "#to add elements to set\n",
    "\n",
    "my_set.add('is')\n",
    "print(my_set)\n",
    "\n",
    "my_set.update(['the','future'])\n",
    "print(my_set)"
   ]
  },
  {
   "cell_type": "markdown",
   "metadata": {},
   "source": [
    "#  Question 4:\n",
    "# Given a list of n-1 numbers ranging from 1 to n, your task is to find the missing number. There are no duplicates"
   ]
  },
  {
   "cell_type": "code",
   "execution_count": 12,
   "metadata": {},
   "outputs": [
    {
     "name": "stdout",
     "output_type": "stream",
     "text": [
      "enter elements1 2 3 4 6\n",
      "The missing value is: 5\n"
     ]
    }
   ],
   "source": [
    "a=list(map(int,input(\"enter elements:\").split(\" \")))\n",
    "n=len(a)\n",
    "t=(n+1)*(n+2)//2\n",
    "s=sum(a)\n",
    "print(\"The missing value is:\",(t-s))"
   ]
  },
  {
   "cell_type": "markdown",
   "metadata": {},
   "source": [
    "# Question 5:\n",
    "# With a given list L, write a program to print this list L after removing all duplicate values with original order reserved."
   ]
  },
  {
   "cell_type": "code",
   "execution_count": 15,
   "metadata": {},
   "outputs": [
    {
     "name": "stdout",
     "output_type": "stream",
     "text": [
      "enter elements12 13 14 14 13 12 15 16\n",
      "[12, 13, 14, 15, 16]\n"
     ]
    }
   ],
   "source": [
    "L=list(map(int,input(\"enter elements\").split(\" \")))\n",
    "l1=set(L)\n",
    "print(list(l1))"
   ]
  },
  {
   "cell_type": "code",
   "execution_count": null,
   "metadata": {},
   "outputs": [],
   "source": []
  },
  {
   "cell_type": "code",
   "execution_count": null,
   "metadata": {},
   "outputs": [],
   "source": []
  }
 ],
 "metadata": {
  "kernelspec": {
   "display_name": "Python 3",
   "language": "python",
   "name": "python3"
  },
  "language_info": {
   "codemirror_mode": {
    "name": "ipython",
    "version": 3
   },
   "file_extension": ".py",
   "mimetype": "text/x-python",
   "name": "python",
   "nbconvert_exporter": "python",
   "pygments_lexer": "ipython3",
   "version": "3.7.6"
  }
 },
 "nbformat": 4,
 "nbformat_minor": 4
}
