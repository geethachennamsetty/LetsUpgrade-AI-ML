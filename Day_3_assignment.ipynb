{
 "cells": [
  {
   "cell_type": "markdown",
   "metadata": {},
   "source": [
    "# Question 1 :\n",
    "# Write a program to subtract two complex numbers in Python"
   ]
  },
  {
   "cell_type": "code",
   "execution_count": null,
   "metadata": {},
   "outputs": [],
   "source": [
    "cnum_a = complex(input(\"enter first complex number \"))\n",
    "cnum_b = complex(input(\"enter second complex number \"))\n",
    "cnum_c = cnum_a-cnum_b\n",
    "print(\"\\nFirst  complex number is \",cnum_a,\"\\n\",\"\\nSecond complex number is \",cnum_b,\"\\n\",\"\\nSubtracted number is \",cnum_c)"
   ]
  },
  {
   "cell_type": "markdown",
   "metadata": {},
   "source": [
    "# Question 2 :\n",
    "\n",
    "# Write a program to find the fourth root of a number."
   ]
  },
  {
   "cell_type": "code",
   "execution_count": null,
   "metadata": {},
   "outputs": [],
   "source": [
    "num = float(input(\"enter the number \"))\n",
    "root = float(input(\"enter the desired root \"))\n",
    "nth_root = num**(1/root)\n",
    "print(nth_root)"
   ]
  },
  {
   "cell_type": "markdown",
   "metadata": {},
   "source": [
    "# Question 3:\n",
    "\n",
    "# Write a program to swap two numbers in Python with the help of a temporary variable.\n"
   ]
  },
  {
   "cell_type": "code",
   "execution_count": null,
   "metadata": {},
   "outputs": [],
   "source": [
    "a = float(input(\"enter first number \"))\n",
    "b = float(input(\"enter second number \"))\n",
    "print(\"a is \",a,\"\\nb is \",b)\n",
    "temp = a\n",
    "a = b\n",
    "b = temp\n",
    "print(\"swapped a is \",a,\"\\nswapped a is \",b)"
   ]
  },
  {
   "cell_type": "markdown",
   "metadata": {},
   "source": [
    "# Question 4:\n",
    "\n",
    "# Write a program to swap two numbers in Python without using a temporary variable.\n"
   ]
  },
  {
   "cell_type": "code",
   "execution_count": null,
   "metadata": {},
   "outputs": [],
   "source": [
    "a = float(input(\"enter first number \"))\n",
    "b = float(input(\"enter second number \"))\n",
    "print(\"a is \",a,\"\\nb is \",b)\n",
    "a,b = b,a\n",
    "print(\"swapped a is \",a,\"\\nswapped b is \",b)"
   ]
  },
  {
   "cell_type": "markdown",
   "metadata": {},
   "source": [
    "# Question 5:\n",
    "# Write a program to convert fahrenheit to kelvin and celsius both.\n"
   ]
  },
  {
   "cell_type": "code",
   "execution_count": null,
   "metadata": {},
   "outputs": [],
   "source": [
    "f=int(input(\"enter fahrenheit temperature\"))\n",
    "c=(f-32)/(9/5)\n",
    "k=(f+459.67)*(5/9)\n",
    "print(\"fahrenheit to celsius\",c,\"\\n fahrenheit to kelvin\",k)\n"
   ]
  },
  {
   "cell_type": "markdown",
   "metadata": {},
   "source": [
    "# Question 6:\n",
    "\n",
    "# Write a program to demonstrate all the available data types in Python. Hint: Use type() function."
   ]
  },
  {
   "cell_type": "code",
   "execution_count": null,
   "metadata": {},
   "outputs": [],
   "source": [
    "a=10\n",
    "b=10.0\n",
    "c=\"abc\"\n",
    "d=4+5j\n",
    "e=True\n",
    "f=[]\n",
    "g=()\n",
    "h=set()\n",
    "i={}\n",
    "z = [a,b,c,d,e,f,g,h,i]\n",
    "for x in z:\n",
    "    print (type(x))"
   ]
  },
  {
   "cell_type": "code",
   "execution_count": null,
   "metadata": {},
   "outputs": [],
   "source": []
  }
 ],
 "metadata": {
  "kernelspec": {
   "display_name": "Python 3",
   "language": "python",
   "name": "python3"
  },
  "language_info": {
   "codemirror_mode": {
    "name": "ipython",
    "version": 3
   },
   "file_extension": ".py",
   "mimetype": "text/x-python",
   "name": "python",
   "nbconvert_exporter": "python",
   "pygments_lexer": "ipython3",
   "version": "3.7.4"
  }
 },
 "nbformat": 4,
 "nbformat_minor": 4
}
